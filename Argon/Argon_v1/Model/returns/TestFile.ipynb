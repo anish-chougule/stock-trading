{
 "cells": [
  {
   "cell_type": "code",
   "execution_count": null,
   "metadata": {},
   "outputs": [],
   "source": [
    "class someClass:\n",
    "\n",
    "    def __init__(self, a, b):\n",
    "        self.A = a\n",
    "        self.B = b\n",
    "\n",
    "    def add(self):\n",
    "        return self.A + self.B\n",
    "\n",
    "    def unify(self):\n",
    "        self.A += self.B\n",
    "        self.B = 0\n",
    "\n",
    "    def print(self):\n",
    "        print(\"A: \", self.A, \"\\t B: \", self.B)\n",
    "\n",
    "something = someClass(3,4)\n",
    "something.print()\n",
    "something.unify()\n",
    "something.print()"
   ]
  }
 ],
 "metadata": {
  "language_info": {
   "name": "python"
  },
  "orig_nbformat": 4
 },
 "nbformat": 4,
 "nbformat_minor": 2
}
